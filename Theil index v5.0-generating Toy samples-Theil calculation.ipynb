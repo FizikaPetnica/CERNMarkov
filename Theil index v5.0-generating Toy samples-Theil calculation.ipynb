{
 "cells": [
  {
   "cell_type": "code",
   "execution_count": 1,
   "metadata": {
    "collapsed": true
   },
   "outputs": [],
   "source": [
    "%matplotlib inline\n",
    "import numpy as np\n",
    "import pylab as pl\n",
    "import matplotlib\n",
    "import matplotlib.pyplot as plt\n",
    "from scipy.stats import norm\n",
    "import scipy.interpolate\n",
    "import random\n",
    "\n",
    "from numpy import random\n",
    "import matplotlib.image as mpimg\n",
    "from scipy.optimize import curve_fit\n",
    "\n",
    "## Formula that describes the ellipse on the Armenteros-odolanski plot.\n",
    "def func(x, m_Ks, m_pi):\n",
    "    return np.sqrt(abs((-m_Ks)**2*(1.-x**2)/4.-m_pi**2))"
   ]
  },
  {
   "cell_type": "code",
   "execution_count": 2,
   "metadata": {
    "collapsed": false
   },
   "outputs": [],
   "source": [
    "toydata=np.loadtxt(\"ToyKS-0.txt\",delimiter=',') #loading the actual collision data"
   ]
  },
  {
   "cell_type": "code",
   "execution_count": 3,
   "metadata": {
    "collapsed": true
   },
   "outputs": [],
   "source": [
    "nps=1 #Number of pseudo datasets.\n",
    "\n",
    "ngi=100 #Number of iterations for calculating the Theil index for the same mass pair.\n",
    "\n",
    "kaon=(550-450)*np.random.rand(nps)+450\n",
    "pion=(200-100)*np.random.rand(nps)+100\n",
    "\n",
    "y_binnum=500 #number of bins along the y-axis\n",
    "x_binnum=y_binnum #number of bins along the x-axis\n",
    "\n",
    "#Binning the toy data.\n",
    "StartMatrix,ax,ay=np.histogram2d(toydata[:,1],toydata[:,0],x_binnum,range=[[0,350],[-1,1]])\n",
    "\n",
    "Theil=np.zeros((nps,3)) #[Theil index,Kaon mass,pion mass]\n",
    "\n",
    "# Creating the histogram of the toy data.\n",
    "a = toydata[:,0]\n",
    "counts, bins = np.histogram(a, bins=100, density=True)\n",
    "cum_counts = np.cumsum(counts)\n",
    "bin_widths = (bins[1:] - bins[:-1])\n",
    "\n",
    "# Interpolating the histogram and finding the distribution.\n",
    "x = cum_counts*bin_widths\n",
    "y = bins[1:]\n",
    "inverse_density_function = scipy.interpolate.interp1d(x, y)\n",
    "    \n",
    "for p in range(nps): #going trough the pseudo datasets\n",
    "    \n",
    "    #Generating alpha values using the same distribution.\n",
    "    alpha=inverse_density_function( random.uniform( x[0], x[-1],[ngi,toydata.shape[0]]) )\n",
    "    pt=func(alpha,kaon[p],pion[p]) #finding the y-coordinate of the bin where an event belongs\n",
    "    TheilGaus=np.zeros((ngi))\n",
    "    for jj in range(ngi):\n",
    "        matrix,ax,ay=np.histogram2d(pt[jj],alpha[jj],x_binnum,range=[[0,350],[-1,1]])\n",
    "        Matrix=matrix + StartMatrix+1\n",
    "\n",
    "        T=0\n",
    "        events=np.asarray(Matrix).reshape(-1)\n",
    "        mean=np.mean(events)\n",
    "\n",
    "        #calculating the Theil index\n",
    "\n",
    "        events1=events\n",
    "        Ev=events*np.log(events1/mean)\n",
    "        T=np.sum(Ev)/mean\n",
    "        T/=Ev.shape[0]*np.log(Ev.shape[0])\n",
    "\n",
    "        TheilGaus[jj]=T\n",
    "\n",
    "    mu, std = norm.fit(TheilGaus)\n",
    "    Theil[p]=[mu,kaon[p],pion[p]] \n",
    "    \n",
    "np.savetxt('Theilindex-final-bin500x500.txt',Theil, delimiter=',')    "
   ]
  },
  {
   "cell_type": "code",
   "execution_count": null,
   "metadata": {
    "collapsed": true
   },
   "outputs": [],
   "source": []
  }
 ],
 "metadata": {
  "kernelspec": {
   "display_name": "Python 2",
   "language": "python",
   "name": "python2"
  },
  "language_info": {
   "codemirror_mode": {
    "name": "ipython",
    "version": 2
   },
   "file_extension": ".py",
   "mimetype": "text/x-python",
   "name": "python",
   "nbconvert_exporter": "python",
   "pygments_lexer": "ipython2",
   "version": "2.7.9"
  }
 },
 "nbformat": 4,
 "nbformat_minor": 0
}
